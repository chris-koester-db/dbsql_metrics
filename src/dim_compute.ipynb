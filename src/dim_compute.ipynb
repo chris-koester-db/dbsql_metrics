{
 "cells": [
  {
   "cell_type": "code",
   "execution_count": 0,
   "metadata": {
    "application/vnd.databricks.v1+cell": {
     "cellMetadata": {
      "byteLimit": 2048000,
      "rowLimit": 10000
     },
     "inputWidgets": {},
     "nuid": "8aaa5c2b-5334-4141-a204-d15cf7e34a68",
     "showTitle": true,
     "tableResultSettingsMap": {},
     "title": "Set Catalog & Schema"
    }
   },
   "outputs": [],
   "source": [
    "use catalog identifier(:catalog);\n",
    "use schema identifier(:schema);"
   ]
  },
  {
   "cell_type": "code",
   "execution_count": 0,
   "metadata": {
    "application/vnd.databricks.v1+cell": {
     "cellMetadata": {
      "byteLimit": 2048000,
      "rowLimit": 10000
     },
     "inputWidgets": {},
     "nuid": "71c49d74-b4a3-4c92-a0aa-f95f6c51d71b",
     "showTitle": true,
     "tableResultSettingsMap": {},
     "title": "Create Table"
    }
   },
   "outputs": [],
   "source": [
    "create or replace table dim_compute (\n",
    "  compute_key string comment 'The primary key (PK) of the table.',\n",
    "  workspace_id string comment 'The ID of the workspace where the warehouse is deployed.',\n",
    "  account_id string comment 'The ID of the Databricks account.',\n",
    "  warehouse_name string comment 'The name of the SQL warehouse.',\n",
    "  warehouse_type string comment 'The type of SQL warehouse. Possible values are CLASSIC, PRO, and SERVERLESS.',\n",
    "  warehouse_channel string comment 'The channel of the SQL warehouse. Possible values are CURRENT and PREVIEW.',\n",
    "  warehouse_size string comment 'The cluster size of the SQL warehouse. Possible values are 2X_SMALL, X_SMALL, SMALL, MEDIUM, LARGE, X_LARGE, 2X_LARGE, 3X_LARGE, and 4X_LARGE.',\n",
    "  min_clusters int comment 'The minimum number of clusters permitted.',\n",
    "  max_clusters int comment 'The maximum number of clusters permitted.',\n",
    "  auto_stop_minutes int comment 'The number of minutes before the SQL warehouse auto-stops due to inactivity.',\n",
    "  change_time timestamp comment 'Timestamp of change to the SQL warehouse definition.',\n",
    "  delete_time timestamp comment 'Timestamp of when the SQL warehouse was deleted. The value is null if the SQL warehouse is not deleted.',\n",
    "  compute_type string not null comment 'The type of compute (Warehouse, Serverless, etc.)',\n",
    "  primary key (compute_key) rely\n",
    ")\n",
    "comment 'DBSQL warehouse dimension sourced from system.compute.warehouses'\n",
    "cluster by (compute_key);"
   ]
  },
  {
   "cell_type": "code",
   "execution_count": 0,
   "metadata": {
    "application/vnd.databricks.v1+cell": {
     "cellMetadata": {
      "byteLimit": 2048000,
      "rowLimit": 10000
     },
     "inputWidgets": {},
     "nuid": "1872ad86-de0c-4be2-bd2e-8e227998c136",
     "showTitle": true,
     "tableResultSettingsMap": {
      "0": {
       "dataGridStateBlob": "{\"version\":1,\"tableState\":{\"columnPinning\":{\"left\":[\"#row_number#\"],\"right\":[]},\"columnSizing\":{},\"columnVisibility\":{}},\"settings\":{\"columns\":{}},\"syncTimestamp\":1752719483173}",
       "filterBlob": null,
       "queryPlanFiltersBlob": null,
       "tableResultIndex": 0
      }
     },
     "title": "Load Data"
    }
   },
   "outputs": [],
   "source": [
    "insert overwrite dim_compute\n",
    "-- Warehouses current row\n",
    "select\n",
    "  warehouse_id as compute_key,\n",
    "  workspace_id,\n",
    "  account_id,\n",
    "  warehouse_name,\n",
    "  warehouse_type,\n",
    "  warehouse_channel,\n",
    "  warehouse_size,\n",
    "  min_clusters,\n",
    "  max_clusters,\n",
    "  auto_stop_minutes,\n",
    "  change_time,\n",
    "  delete_time,\n",
    "  'Warehouse' as compute_type,\n",
    "  row_number() over (partition by warehouse_id order by change_time desc) as rn\n",
    "from system.compute.warehouses\n",
    "qualify rn = 1\n",
    "|> drop rn\n",
    "\n",
    "union all\n",
    "\n",
    "-- Serverless\n",
    "select\n",
    "  'serverless' as compute_key,\n",
    "  'UNKNOWN' as workspace_id,\n",
    "  'UNKNOWN' as account_id,\n",
    "  'UNKNOWN' as warehouse_name,\n",
    "  'UNKNOWN' as warehouse_type,\n",
    "  'UNKNOWN' as warehouse_channel,\n",
    "  'UNKNOWN' as warehouse_size,\n",
    "  null as min_clusters,\n",
    "  null as max_clusters,\n",
    "  null as auto_stop_minutes,\n",
    "  null as change_time,\n",
    "  null as delete_time,\n",
    "  'Serverless' as compute_type\n",
    "\n",
    "union all\n",
    "\n",
    "-- Unknown\n",
    "select\n",
    "  '-1' as compute_key,\n",
    "  'UNKNOWN' as workspace_id,\n",
    "  'UNKNOWN' as account_id,\n",
    "  'UNKNOWN' as warehouse_name,\n",
    "  'UNKNOWN' as warehouse_type,\n",
    "  'UNKNOWN' as warehouse_channel,\n",
    "  'UNKNOWN' as warehouse_size,\n",
    "  null as min_clusters,\n",
    "  null as max_clusters,\n",
    "  null as auto_stop_minutes,\n",
    "  null as change_time,\n",
    "  null as delete_time,\n",
    "  'UNKNOWN' as compute_type"
   ]
  },
  {
   "cell_type": "code",
   "execution_count": 0,
   "metadata": {
    "application/vnd.databricks.v1+cell": {
     "cellMetadata": {
      "byteLimit": 2048000,
      "rowLimit": 10000
     },
     "inputWidgets": {},
     "nuid": "afd3fe1c-86d6-49ae-8b1e-06ced3def17d",
     "showTitle": true,
     "tableResultSettingsMap": {},
     "title": "Optimize"
    }
   },
   "outputs": [],
   "source": [
    "optimize dim_compute"
   ]
  },
  {
   "cell_type": "code",
   "execution_count": 0,
   "metadata": {
    "application/vnd.databricks.v1+cell": {
     "cellMetadata": {
      "byteLimit": 2048000,
      "rowLimit": 10000
     },
     "inputWidgets": {},
     "nuid": "7fd3d097-0255-4fdb-9239-99a1efb32bec",
     "showTitle": true,
     "tableResultSettingsMap": {},
     "title": "Collect Statistics"
    }
   },
   "outputs": [],
   "source": [
    "analyze table dim_compute compute statistics for all columns;"
   ]
  },
  {
   "cell_type": "code",
   "execution_count": 0,
   "metadata": {
    "application/vnd.databricks.v1+cell": {
     "cellMetadata": {
      "byteLimit": 2048000,
      "rowLimit": 10000
     },
     "inputWidgets": {},
     "nuid": "d2c66903-c3a6-41e3-b7a5-0ecb36579b52",
     "showTitle": true,
     "tableResultSettingsMap": {},
     "title": "Vacuum"
    }
   },
   "outputs": [],
   "source": [
    "vacuum dim_compute"
   ]
  }
 ],
 "metadata": {
  "application/vnd.databricks.v1+notebook": {
   "computePreferences": null,
   "dashboards": [],
   "environmentMetadata": null,
   "inputWidgetPreferences": null,
   "language": "sql",
   "notebookMetadata": {
    "pythonIndentUnit": 2
   },
   "notebookName": "dim_compute",
   "widgets": {
    "catalog": {
     "currentValue": "users",
     "nuid": "2d4fcc62-6974-4fe5-b2b2-1467c749a661",
     "typedWidgetInfo": {
      "autoCreated": false,
      "defaultValue": "users",
      "label": "",
      "name": "catalog",
      "options": {
       "validationRegex": null,
       "widgetDisplayType": "Text"
      },
      "parameterDataType": "String"
     },
     "widgetInfo": {
      "defaultValue": "users",
      "label": "",
      "name": "catalog",
      "options": {
       "autoCreated": false,
       "validationRegex": null,
       "widgetType": "text"
      },
      "widgetType": "text"
     }
    },
    "schema": {
     "currentValue": "chris_koester",
     "nuid": "7d420e17-c919-4f52-ba06-b59b389d5f3b",
     "typedWidgetInfo": {
      "autoCreated": false,
      "defaultValue": "",
      "label": "",
      "name": "schema",
      "options": {
       "validationRegex": null,
       "widgetDisplayType": "Text"
      },
      "parameterDataType": "String"
     },
     "widgetInfo": {
      "defaultValue": "",
      "label": "",
      "name": "schema",
      "options": {
       "autoCreated": false,
       "validationRegex": null,
       "widgetType": "text"
      },
      "widgetType": "text"
     }
    }
   }
  },
  "language_info": {
   "name": "sql"
  }
 },
 "nbformat": 4,
 "nbformat_minor": 0
}
