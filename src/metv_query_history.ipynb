{
 "cells": [
  {
   "cell_type": "code",
   "execution_count": 0,
   "metadata": {
    "application/vnd.databricks.v1+cell": {
     "cellMetadata": {
      "byteLimit": 2048000,
      "rowLimit": 10000
     },
     "inputWidgets": {},
     "nuid": "0068e5a5-3046-4905-99b8-6bbf3e9b1e36",
     "showTitle": true,
     "tableResultSettingsMap": {},
     "title": "Set Catalog & Schema"
    }
   },
   "outputs": [],
   "source": [
    "use catalog identifier(:catalog);\n",
    "use schema identifier(:schema);"
   ]
  },
  {
   "cell_type": "code",
   "execution_count": 0,
   "metadata": {
    "application/vnd.databricks.v1+cell": {
     "cellMetadata": {
      "byteLimit": 2048000,
      "rowLimit": 10000
     },
     "inputWidgets": {},
     "nuid": "4401daff-785d-480d-8dde-d8af95649006",
     "showTitle": true,
     "tableResultSettingsMap": {},
     "title": "Create Metric View"
    }
   },
   "outputs": [],
   "source": [
    "declare or replace qry_str string;\n",
    "\n",
    "set var qry_str = \n",
    "  \"create or replace view metv_dbsql\n",
    "  (\n",
    "    Date comment 'Date when Databricks received the request.',\n",
    "    `Workspace Name` comment 'The name of the workspace.',\n",
    "    `Client Application` comment 'Client application that ran the statement. For example: Databricks SQL, Tableau, and Power BI. Nulls and blanks are labled as Unknown',\n",
    "    `Compute Type` comment 'The type of compute (Warehouse, Serverless, etc.)',\n",
    "    `Warehouse Name` comment 'The name of the SQL warehouse.',\n",
    "    `Warehouse Type` comment 'The type of SQL warehouse. Possible values are CLASSIC, PRO, and SERVERLESS.',\n",
    "    `Warehouse Size` comment 'The cluster size of the SQL warehouse. Possible values are 2X_SMALL, X_SMALL, SMALL, MEDIUM, LARGE, X_LARGE, 2X_LARGE, 3X_LARGE, and 4X_LARGE.',\n",
    "    `Query Count` comment 'Count of queries.',\n",
    "    `Query Duration Sec P50` comment 'P50 of total execution time of the statement in seconds (Excluding result fetch time).',\n",
    "    `Query Duration Sec P90` comment 'P90 of total execution time of the statement in seconds (Excluding result fetch time).',\n",
    "    `Query Duration Sec P95` comment 'P95 of total execution time of the statement in seconds (Excluding result fetch time).'\n",
    "  )\n",
    "  with metrics\n",
    "  language yaml\n",
    "  as $$\n",
    "  version: 0.1\n",
    "  \n",
    "  source: \" || :catalog || '.' || :schema || \".fct_query_history\n",
    "  \n",
    "  joins:\n",
    "    - name: calendar\n",
    "      source: \" || :catalog || '.' || :schema || \".dim_calendar\n",
    "      on: calendar.calendar_key = source.calendar_key\n",
    "\n",
    "    - name: compute\n",
    "      source: \" || :catalog || '.' || :schema || \".dim_compute\n",
    "      on: compute.compute_key = source.compute_key\n",
    "\n",
    "    - name: workspace\n",
    "      source: \" || :catalog || '.' || :schema || \".dim_workspace\n",
    "      on: workspace.workspace_key = source.workspace_key\n",
    "  \n",
    "  dimensions:\n",
    "    - name: Date\n",
    "      expr: calendar.calendar_date\n",
    "    - name: Workspace Name\n",
    "      expr: workspace.workspace_name\n",
    "    - name: Client Application\n",
    "      expr: source.client_application\n",
    "    - name: Compute Type\n",
    "      expr: compute.compute_type\n",
    "    - name: Warehouse Name\n",
    "      expr: compute.warehouse_name\n",
    "    - name: Warehouse Type\n",
    "      expr: compute.warehouse_type\n",
    "    - name: Warehouse Size\n",
    "      expr: compute.warehouse_size\n",
    "\n",
    "  measures:\n",
    "    - name: Query Count\n",
    "      expr: count(statement_id)\n",
    "    - name: Query Duration Sec P50\n",
    "      expr: percentile(total_duration_ms / 1000, 0.5)\n",
    "    - name: Query Duration Sec P90\n",
    "      expr: percentile(total_duration_ms / 1000, 0.9)\n",
    "    - name: Query Duration Sec P95\n",
    "      expr: percentile(total_duration_ms / 1000, 0.95)\n",
    "  $$\";\n",
    "\n",
    "execute immediate qry_str;"
   ]
  }
 ],
 "metadata": {
  "application/vnd.databricks.v1+notebook": {
   "computePreferences": null,
   "dashboards": [],
   "environmentMetadata": {
    "base_environment": "dbe_c75093c8-0895-475e-8c1b-6acacfe3368b",
    "environment_version": "2"
   },
   "inputWidgetPreferences": null,
   "language": "sql",
   "notebookMetadata": {
    "pythonIndentUnit": 2
   },
   "notebookName": "metv_query_history",
   "widgets": {
    "catalog": {
     "currentValue": "users",
     "nuid": "1f5ef89d-b82a-481b-aef3-c88e8fb77723",
     "typedWidgetInfo": {
      "autoCreated": false,
      "defaultValue": "",
      "label": "",
      "name": "catalog",
      "options": {
       "validationRegex": null,
       "widgetDisplayType": "Text"
      },
      "parameterDataType": "String"
     },
     "widgetInfo": {
      "defaultValue": "",
      "label": "",
      "name": "catalog",
      "options": {
       "autoCreated": false,
       "validationRegex": null,
       "widgetType": "text"
      },
      "widgetType": "text"
     }
    },
    "schema": {
     "currentValue": "chris_koester",
     "nuid": "88ce8536-1262-4177-9f02-29590a12cf82",
     "typedWidgetInfo": {
      "autoCreated": false,
      "defaultValue": "",
      "label": "",
      "name": "schema",
      "options": {
       "validationRegex": null,
       "widgetDisplayType": "Text"
      },
      "parameterDataType": "String"
     },
     "widgetInfo": {
      "defaultValue": "",
      "label": "",
      "name": "schema",
      "options": {
       "autoCreated": false,
       "validationRegex": null,
       "widgetType": "text"
      },
      "widgetType": "text"
     }
    }
   }
  },
  "language_info": {
   "name": "sql"
  }
 },
 "nbformat": 4,
 "nbformat_minor": 0
}
