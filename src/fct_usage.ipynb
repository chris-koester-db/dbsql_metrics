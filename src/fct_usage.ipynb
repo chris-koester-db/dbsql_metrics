{
 "cells": [
  {
   "cell_type": "markdown",
   "metadata": {
    "application/vnd.databricks.v1+cell": {
     "cellMetadata": {},
     "inputWidgets": {},
     "nuid": "ffc94f99-d173-4a36-9b75-d8207477fccc",
     "showTitle": false,
     "tableResultSettingsMap": {},
     "title": ""
    }
   },
   "source": [
    "Materialize query history system table for best performance, and so that primary key optimizations can be applied.\n",
    "\n",
    "See [query optimization using primary key constraints](https://docs.databricks.com/aws/en/sql/user/queries/query-optimization-constraints) for more details."
   ]
  },
  {
   "cell_type": "code",
   "execution_count": 0,
   "metadata": {
    "application/vnd.databricks.v1+cell": {
     "cellMetadata": {
      "byteLimit": 2048000,
      "rowLimit": 10000
     },
     "inputWidgets": {},
     "nuid": "65848cfa-7ee4-44e3-91de-c8e18f5ee3be",
     "showTitle": true,
     "tableResultSettingsMap": {},
     "title": "Set Catalog & Schema"
    }
   },
   "outputs": [],
   "source": [
    "use catalog identifier(:catalog);\n",
    "use schema identifier(:schema);"
   ]
  },
  {
   "cell_type": "code",
   "execution_count": 0,
   "metadata": {
    "application/vnd.databricks.v1+cell": {
     "cellMetadata": {
      "byteLimit": 2048000,
      "rowLimit": 10000
     },
     "inputWidgets": {},
     "nuid": "9c09588d-03e8-46fc-a846-10dab341bdc0",
     "showTitle": true,
     "tableResultSettingsMap": {},
     "title": "Create Table"
    }
   },
   "outputs": [],
   "source": [
    "create or replace table fct_usage(\n",
    "  calendar_key int comment 'FK for calendar dimension (dim_calendar).',\n",
    "  compute_key string comment 'FK for compute dimension (dim_compute).',\n",
    "  workspace_key string comment 'FK for workspace dimension (dim_workspace).',\n",
    "  record_id string comment 'Unique ID for this usage record',\n",
    "  sku_name string comment 'Name of the SKU',\n",
    "  cloud string comment 'Cloud this usage is relevant for. Possible values are AWS, AZURE, and GCP.',\n",
    "  usage_start_time timestamp comment 'The start time relevant to this usage record. Timezone information is recorded at the end of the value with +00:00 representing UTC timezone.',\n",
    "  usage_end_time timestamp comment 'The end time relevant to this usage record. Timezone information is recorded at the end of the value with +00:00 representing UTC timezone.',\n",
    "  usage_date date comment 'Date of the usage record, this field can be used for faster aggregation by date',\n",
    "  usage_unit string comment 'Unit this usage is measured in. Possible values include DBUs.',\n",
    "  usage_quantity decimal(38, 18) comment 'Number of units consumed for this record.',\n",
    "  record_type string comment 'Whether the record is original, a retraction, or a restatement. The value is ORIGINAL unless the record is related to a correction. See [Analyze correction records](https://docs.databricks.com/en/admin/system-tables/billing.html#record-type).',\n",
    "  ingestion_date date comment 'Date the record was ingested into the usage table.',\n",
    "  billing_origin_product string comment 'The product that originated the usage. Some products can be billed as different SKUs. For possible values, see [View information about the product associated with the usage](https://docs.databricks.com/en/admin/system-tables/billing.html#features).',\n",
    "  usage_type string comment 'The type of usage attributed to the product or workload for billing purposes. Possible values are COMPUTE_TIME, STORAGE_SPACE, NETWORK_BYTES, API_CALLS, TOKEN, or GPU_TIME.',\n",
    "  constraint fk_fct_usage_dim_calendar\n",
    "    foreign key (calendar_key) references dim_calendar (calendar_key),\n",
    "  constraint fk_fct_usage_dim_compute\n",
    "    foreign key (compute_key) references dim_compute (compute_key),\n",
    "  constraint fk_fct_usage_dim_workspace\n",
    "    foreign key (workspace_key) references dim_workspace (workspace_key)\n",
    ")\n",
    "cluster by (calendar_key, compute_key, workspace_key);"
   ]
  },
  {
   "cell_type": "code",
   "execution_count": 0,
   "metadata": {
    "application/vnd.databricks.v1+cell": {
     "cellMetadata": {
      "byteLimit": 2048000,
      "rowLimit": 10000
     },
     "inputWidgets": {},
     "nuid": "0081c2f9-a5f3-4d37-9b76-d46ca987013d",
     "showTitle": true,
     "tableResultSettingsMap": {},
     "title": "Prepare Source Data"
    }
   },
   "outputs": [],
   "source": [
    "-- Returns usage associated with DBSQL warehouses\n",
    "insert overwrite fct_usage\n",
    "select\n",
    "  year(usage_date) * 10000 + month(usage_date) * 100 + day(usage_date) as calendar_key,\n",
    "  usage_metadata.warehouse_id as compute_key,\n",
    "  workspace_id as workspace_key,\n",
    "  record_id,\n",
    "  sku_name,\n",
    "  cloud,\n",
    "  usage_start_time,\n",
    "  usage_end_time,\n",
    "  usage_date,\n",
    "  usage_unit,\n",
    "  usage_quantity,\n",
    "  record_type,\n",
    "  ingestion_date,\n",
    "  billing_origin_product,\n",
    "  usage_type\n",
    "from system.billing.usage\n",
    "where usage_date >= current_date() - interval 6 months\n",
    "and usage_metadata.warehouse_id is not null;"
   ]
  },
  {
   "cell_type": "code",
   "execution_count": 0,
   "metadata": {
    "application/vnd.databricks.v1+cell": {
     "cellMetadata": {
      "byteLimit": 2048000,
      "rowLimit": 10000
     },
     "inputWidgets": {},
     "nuid": "7a18dfb5-f700-487b-8581-54338f42432a",
     "showTitle": true,
     "tableResultSettingsMap": {},
     "title": "Optimize"
    }
   },
   "outputs": [],
   "source": [
    "optimize fct_usage"
   ]
  },
  {
   "cell_type": "code",
   "execution_count": 0,
   "metadata": {
    "application/vnd.databricks.v1+cell": {
     "cellMetadata": {
      "byteLimit": 2048000,
      "rowLimit": 10000
     },
     "inputWidgets": {},
     "nuid": "531d6c75-087f-432b-b8f6-c648a9a123a5",
     "showTitle": true,
     "tableResultSettingsMap": {},
     "title": "Collect Statistics"
    }
   },
   "outputs": [],
   "source": [
    "analyze table fct_usage compute statistics for all columns;"
   ]
  },
  {
   "cell_type": "code",
   "execution_count": 0,
   "metadata": {
    "application/vnd.databricks.v1+cell": {
     "cellMetadata": {
      "byteLimit": 2048000,
      "rowLimit": 10000
     },
     "inputWidgets": {},
     "nuid": "8f48149c-7d17-46f0-823b-f0415f1029bb",
     "showTitle": true,
     "tableResultSettingsMap": {},
     "title": "Vacuum"
    }
   },
   "outputs": [],
   "source": [
    "vacuum fct_usage"
   ]
  }
 ],
 "metadata": {
  "application/vnd.databricks.v1+notebook": {
   "computePreferences": null,
   "dashboards": [],
   "environmentMetadata": {
    "base_environment": "",
    "environment_version": "2"
   },
   "inputWidgetPreferences": null,
   "language": "sql",
   "notebookMetadata": {
    "pythonIndentUnit": 2
   },
   "notebookName": "fct_usage",
   "widgets": {
    "catalog": {
     "currentValue": "users",
     "nuid": "53aa7b1b-a232-4045-9033-458938e983a9",
     "typedWidgetInfo": {
      "autoCreated": false,
      "defaultValue": "users",
      "label": "",
      "name": "catalog",
      "options": {
       "validationRegex": null,
       "widgetDisplayType": "Text"
      },
      "parameterDataType": "String"
     },
     "widgetInfo": {
      "defaultValue": "users",
      "label": "",
      "name": "catalog",
      "options": {
       "autoCreated": false,
       "validationRegex": null,
       "widgetType": "text"
      },
      "widgetType": "text"
     }
    },
    "schema": {
     "currentValue": "chris_koester",
     "nuid": "ddcd2853-b1ff-4f41-8b46-f3f3eeb9cdf4",
     "typedWidgetInfo": {
      "autoCreated": false,
      "defaultValue": "chris_koester",
      "label": "",
      "name": "schema",
      "options": {
       "validationRegex": null,
       "widgetDisplayType": "Text"
      },
      "parameterDataType": "String"
     },
     "widgetInfo": {
      "defaultValue": "chris_koester",
      "label": "",
      "name": "schema",
      "options": {
       "autoCreated": false,
       "validationRegex": null,
       "widgetType": "text"
      },
      "widgetType": "text"
     }
    }
   }
  },
  "language_info": {
   "name": "sql"
  }
 },
 "nbformat": 4,
 "nbformat_minor": 0
}
