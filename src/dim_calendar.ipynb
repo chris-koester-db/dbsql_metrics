{
 "cells": [
  {
   "cell_type": "markdown",
   "metadata": {
    "application/vnd.databricks.v1+cell": {
     "cellMetadata": {
      "byteLimit": 2048000,
      "rowLimit": 10000
     },
     "inputWidgets": {},
     "nuid": "e0e93111-35d7-4c05-a20a-af611afef532",
     "showTitle": false,
     "tableResultSettingsMap": {},
     "title": ""
    }
   },
   "source": [
    "## Lakehouse Calendar Dimension\n",
    "This notebook creates a calendar dimension (Also known as date dimension) for the lakehouse. It is intended to be reloaded daily, and defaults to loading data using a rolling 5 year period.\n",
    "\n",
    "### Directions\n",
    "- Set catalog and schema\n",
    "- Update the table location\n",
    "- Modify the date range as necessary by updating the dates CTE\n",
    "- Add/modify/remove columns as necessary\n",
    "- Schedule to run daily using Workflows\n",
    "\n",
    "### References\n",
    "- [Five Simple Steps for Implementing a Star Schema in Databricks With Delta Lake](https://www.databricks.com/blog/2022/05/20/five-simple-steps-for-implementing-a-star-schema-in-databricks-with-delta-lake.html)\n",
    "- [Datetime Patterns for Formatting and Parsing](https://spark.apache.org/docs/latest/sql-ref-datetime-pattern.html)"
   ]
  },
  {
   "cell_type": "code",
   "execution_count": 0,
   "metadata": {
    "application/vnd.databricks.v1+cell": {
     "cellMetadata": {
      "byteLimit": 2048000,
      "rowLimit": 10000
     },
     "inputWidgets": {},
     "nuid": "8aaa5c2b-5334-4141-a204-d15cf7e34a68",
     "showTitle": true,
     "tableResultSettingsMap": {},
     "title": "Set Catalog & Schema"
    }
   },
   "outputs": [
    {
     "output_type": "display_data",
     "data": {
      "text/html": [
       "<style scoped>\n",
       "  .table-result-container {\n",
       "    max-height: 300px;\n",
       "    overflow: auto;\n",
       "  }\n",
       "  table, th, td {\n",
       "    border: 1px solid black;\n",
       "    border-collapse: collapse;\n",
       "  }\n",
       "  th, td {\n",
       "    padding: 5px;\n",
       "  }\n",
       "  th {\n",
       "    text-align: left;\n",
       "  }\n",
       "</style><div class='table-result-container'><table class='table-result'><thead style='background-color: white'><tr></tr></thead><tbody></tbody></table></div>"
      ]
     },
     "metadata": {
      "application/vnd.databricks.v1+output": {
       "addedWidgets": {},
       "aggData": [],
       "aggError": "",
       "aggOverflow": false,
       "aggSchema": [],
       "aggSeriesLimitReached": false,
       "aggType": "",
       "arguments": {},
       "columnCustomDisplayInfos": {},
       "data": [],
       "datasetInfos": [],
       "dbfsResultPath": null,
       "isJsonSchema": true,
       "metadata": {},
       "overflow": false,
       "plotOptions": {
        "customPlotOptions": {},
        "displayType": "table",
        "pivotAggregation": null,
        "pivotColumns": null,
        "xColumns": null,
        "yColumns": null
       },
       "removedWidgets": [],
       "schema": [],
       "type": "table"
      }
     },
     "output_type": "display_data"
    },
    {
     "output_type": "display_data",
     "data": {
      "text/html": [
       "<style scoped>\n",
       "  .table-result-container {\n",
       "    max-height: 300px;\n",
       "    overflow: auto;\n",
       "  }\n",
       "  table, th, td {\n",
       "    border: 1px solid black;\n",
       "    border-collapse: collapse;\n",
       "  }\n",
       "  th, td {\n",
       "    padding: 5px;\n",
       "  }\n",
       "  th {\n",
       "    text-align: left;\n",
       "  }\n",
       "</style><div class='table-result-container'><table class='table-result'><thead style='background-color: white'><tr></tr></thead><tbody></tbody></table></div>"
      ]
     },
     "metadata": {
      "application/vnd.databricks.v1+output": {
       "addedWidgets": {},
       "aggData": [],
       "aggError": "",
       "aggOverflow": false,
       "aggSchema": [],
       "aggSeriesLimitReached": false,
       "aggType": "",
       "arguments": {},
       "columnCustomDisplayInfos": {},
       "data": [],
       "datasetInfos": [],
       "dbfsResultPath": null,
       "isJsonSchema": true,
       "metadata": {},
       "overflow": false,
       "plotOptions": {
        "customPlotOptions": {},
        "displayType": "table",
        "pivotAggregation": null,
        "pivotColumns": null,
        "xColumns": null,
        "yColumns": null
       },
       "removedWidgets": [],
       "schema": [],
       "type": "table"
      }
     },
     "output_type": "display_data"
    }
   ],
   "source": [
    "use catalog identifier(:catalog);\n",
    "use schema identifier(:schema);"
   ]
  },
  {
   "cell_type": "code",
   "execution_count": 0,
   "metadata": {
    "application/vnd.databricks.v1+cell": {
     "cellMetadata": {
      "byteLimit": 2048000,
      "rowLimit": 10000
     },
     "inputWidgets": {},
     "nuid": "71c49d74-b4a3-4c92-a0aa-f95f6c51d71b",
     "showTitle": false,
     "tableResultSettingsMap": {},
     "title": ""
    }
   },
   "outputs": [
    {
     "output_type": "display_data",
     "data": {
      "text/html": [
       "<style scoped>\n",
       "  .table-result-container {\n",
       "    max-height: 300px;\n",
       "    overflow: auto;\n",
       "  }\n",
       "  table, th, td {\n",
       "    border: 1px solid black;\n",
       "    border-collapse: collapse;\n",
       "  }\n",
       "  th, td {\n",
       "    padding: 5px;\n",
       "  }\n",
       "  th {\n",
       "    text-align: left;\n",
       "  }\n",
       "</style><div class='table-result-container'><table class='table-result'><thead style='background-color: white'><tr></tr></thead><tbody></tbody></table></div>"
      ]
     },
     "metadata": {
      "application/vnd.databricks.v1+output": {
       "addedWidgets": {},
       "aggData": [],
       "aggError": "",
       "aggOverflow": false,
       "aggSchema": [],
       "aggSeriesLimitReached": false,
       "aggType": "",
       "arguments": {},
       "columnCustomDisplayInfos": {},
       "data": [],
       "datasetInfos": [],
       "dbfsResultPath": null,
       "isJsonSchema": true,
       "metadata": {},
       "overflow": false,
       "plotOptions": {
        "customPlotOptions": {},
        "displayType": "table",
        "pivotAggregation": null,
        "pivotColumns": null,
        "xColumns": null,
        "yColumns": null
       },
       "removedWidgets": [],
       "schema": [],
       "type": "table"
      }
     },
     "output_type": "display_data"
    }
   ],
   "source": [
    "create or replace table dim_calendar (\n",
    "  date_int int not null comment 'Integer representation of the date',\n",
    "  calendar_date date not null comment 'Calendar date',\n",
    "  calendar_year int not null comment 'Calendar year',\n",
    "  calendar_month string not null comment 'Calendar month (January, February, March)',\n",
    "  month_of_year int not null comment 'Month of year (1 - 12)',\n",
    "  calendar_day string not null comment 'Calendar day (Monday, Tuesday, Wednesday)',\n",
    "  day_of_week int not null comment 'Day of week (1 - 7)',\n",
    "  day_of_week_start_monday int not null comment 'Day of week starting Monday (1 - 7)',\n",
    "  is_week_day string not null comment 'Flag for weekday, a day of the week other than Saturday or Sunday (Y, N)',\n",
    "  day_of_month int not null comment 'Day of the month (1 - 31)',\n",
    "  is_last_day_of_month string not null comment 'Flag for last day of the month (Y, N)',\n",
    "  day_of_year int not null comment 'Day of the year (1 - 365)',\n",
    "  week_of_year_iso int not null comment 'Week of the year (1 - 53)',\n",
    "  quarter_of_year int not null comment 'Quarter of the year (1 - 4)',\n",
    "  fiscal_year_oct_to_sep int not null comment 'Fiscal year for October to September',\n",
    "  fiscal_month_oct_to_sep int not null comment 'Fiscal month for October to September (1 - 12)',\n",
    "  fiscal_year_jul_to_jun int not null comment 'Fiscal year for July to June',\n",
    "  fiscal_month_jul_to_jun int not null comment 'Fiscal month for July to June (1 - 12)',\n",
    "  primary key (date_int) rely\n",
    ")\n",
    "comment 'Calendar dimension'\n",
    "cluster by (date_int);"
   ]
  },
  {
   "cell_type": "code",
   "execution_count": 0,
   "metadata": {
    "application/vnd.databricks.v1+cell": {
     "cellMetadata": {
      "byteLimit": 2048000,
      "rowLimit": 10000
     },
     "inputWidgets": {},
     "nuid": "7846f51c-5a98-49c3-8539-f2469de30069",
     "showTitle": false,
     "tableResultSettingsMap": {
      "0": {
       "dataGridStateBlob": "{\"tableState\":{\"columnPinning\":{\"left\":[\"#row_number#\"],\"right\":[]},\"columnSizing\":{},\"columnVisibility\":{}},\"settings\":{\"columns\":{}},\"syncTimestamp\":1747321958274}",
       "filterBlob": null,
       "queryPlanFiltersBlob": null,
       "tableResultIndex": 0
      }
     },
     "title": ""
    }
   },
   "outputs": [
    {
     "output_type": "display_data",
     "data": {
      "text/html": [
       "<style scoped>\n",
       "  .table-result-container {\n",
       "    max-height: 300px;\n",
       "    overflow: auto;\n",
       "  }\n",
       "  table, th, td {\n",
       "    border: 1px solid black;\n",
       "    border-collapse: collapse;\n",
       "  }\n",
       "  th, td {\n",
       "    padding: 5px;\n",
       "  }\n",
       "  th {\n",
       "    text-align: left;\n",
       "  }\n",
       "</style><div class='table-result-container'><table class='table-result'><thead style='background-color: white'><tr><th>num_affected_rows</th><th>num_inserted_rows</th></tr></thead><tbody><tr><td>1827</td><td>1827</td></tr></tbody></table></div>"
      ]
     },
     "metadata": {
      "application/vnd.databricks.v1+output": {
       "addedWidgets": {},
       "aggData": [],
       "aggError": "",
       "aggOverflow": false,
       "aggSchema": [],
       "aggSeriesLimitReached": false,
       "aggType": "",
       "arguments": {},
       "columnCustomDisplayInfos": {},
       "data": [
        [
         1827,
         1827
        ]
       ],
       "datasetInfos": [],
       "dbfsResultPath": null,
       "isJsonSchema": true,
       "metadata": {},
       "overflow": false,
       "plotOptions": {
        "customPlotOptions": {},
        "displayType": "table",
        "pivotAggregation": null,
        "pivotColumns": null,
        "xColumns": null,
        "yColumns": null
       },
       "removedWidgets": [],
       "schema": [
        {
         "metadata": "{}",
         "name": "num_affected_rows",
         "type": "\"long\""
        },
        {
         "metadata": "{}",
         "name": "num_inserted_rows",
         "type": "\"long\""
        }
       ],
       "type": "table"
      }
     },
     "output_type": "display_data"
    }
   ],
   "source": [
    "insert overwrite dim_calendar\n",
    "--Set the date range in the dates CTE below\n",
    "with dates as (\n",
    "  select explode(sequence(current_date() - interval 5 years, current_date(), interval 1 day)) AS calendar_date\n",
    ")\n",
    "select\n",
    "  year(calendar_date) * 10000 + month(calendar_date) * 100 + day(calendar_date) as date_int,\n",
    "  calendar_date,\n",
    "  year(calendar_date) AS calendar_year,\n",
    "  date_format(calendar_date, 'MMM') as calendar_month,\n",
    "  month(calendar_date) as month_of_year,\n",
    "  date_format(calendar_date, 'EEEE') as calendar_day,\n",
    "  dayofweek(calendar_date) AS day_of_week,\n",
    "  weekday(calendar_date) + 1 as day_of_week_start_monday,\n",
    "  case\n",
    "    when weekday(calendar_date) < 5 then 'Y'\n",
    "    else 'N'\n",
    "  end as is_week_day,\n",
    "  dayofmonth(calendar_date) as day_of_month,\n",
    "  case\n",
    "    when calendar_date = last_day(calendar_date) then 'Y'\n",
    "    else 'N'\n",
    "  end as is_last_day_of_month,\n",
    "  dayofyear(calendar_date) as day_of_year,\n",
    "  weekofyear(calendar_date) as week_of_year_iso,\n",
    "  quarter(calendar_date) as quarter_of_year,\n",
    "  /* Fiscal period examples */\n",
    "  case\n",
    "    when month(calendar_date) >= 10 then year(calendar_date) + 1\n",
    "    else year(calendar_date)\n",
    "  end as fiscal_year_oct_to_sep,\n",
    "  (month(calendar_date) + 2) % 12 + 1 AS fiscal_month_oct_to_sep,\n",
    "  case\n",
    "    when month(calendar_date) >= 7 then year(calendar_date) + 1\n",
    "    else year(calendar_date)\n",
    "  end as fiscal_year_jul_to_jun,\n",
    "  (month(calendar_date) + 5) % 12 + 1 AS fiscal_month_jul_to_jun\n",
    "from\n",
    "  dates\n",
    "order by\n",
    "  calendar_date;"
   ]
  },
  {
   "cell_type": "code",
   "execution_count": 0,
   "metadata": {
    "application/vnd.databricks.v1+cell": {
     "cellMetadata": {
      "byteLimit": 2048000,
      "rowLimit": 10000
     },
     "inputWidgets": {},
     "nuid": "813e7d34-06a9-499a-91bc-02c97fd60982",
     "showTitle": false,
     "tableResultSettingsMap": {},
     "title": ""
    }
   },
   "outputs": [
    {
     "output_type": "display_data",
     "data": {
      "text/html": [
       "<style scoped>\n",
       "  .table-result-container {\n",
       "    max-height: 300px;\n",
       "    overflow: auto;\n",
       "  }\n",
       "  table, th, td {\n",
       "    border: 1px solid black;\n",
       "    border-collapse: collapse;\n",
       "  }\n",
       "  th, td {\n",
       "    padding: 5px;\n",
       "  }\n",
       "  th {\n",
       "    text-align: left;\n",
       "  }\n",
       "</style><div class='table-result-container'><table class='table-result'><thead style='background-color: white'><tr></tr></thead><tbody></tbody></table></div>"
      ]
     },
     "metadata": {
      "application/vnd.databricks.v1+output": {
       "addedWidgets": {},
       "aggData": [],
       "aggError": "",
       "aggOverflow": false,
       "aggSchema": [],
       "aggSeriesLimitReached": false,
       "aggType": "",
       "arguments": {},
       "columnCustomDisplayInfos": {},
       "data": [],
       "datasetInfos": [],
       "dbfsResultPath": null,
       "isJsonSchema": true,
       "metadata": {},
       "overflow": false,
       "plotOptions": {
        "customPlotOptions": {},
        "displayType": "table",
        "pivotAggregation": null,
        "pivotColumns": null,
        "xColumns": null,
        "yColumns": null
       },
       "removedWidgets": [],
       "schema": [],
       "type": "table"
      }
     },
     "output_type": "display_data"
    }
   ],
   "source": [
    "create or replace view vw_dim_calendar as\n",
    "select * from dim_calendar;"
   ]
  },
  {
   "cell_type": "code",
   "execution_count": 0,
   "metadata": {
    "application/vnd.databricks.v1+cell": {
     "cellMetadata": {
      "byteLimit": 2048000,
      "rowLimit": 10000
     },
     "inputWidgets": {},
     "nuid": "afd3fe1c-86d6-49ae-8b1e-06ced3def17d",
     "showTitle": true,
     "tableResultSettingsMap": {},
     "title": "Optimize"
    }
   },
   "outputs": [
    {
     "output_type": "display_data",
     "data": {
      "text/html": [
       "<style scoped>\n",
       "  .table-result-container {\n",
       "    max-height: 300px;\n",
       "    overflow: auto;\n",
       "  }\n",
       "  table, th, td {\n",
       "    border: 1px solid black;\n",
       "    border-collapse: collapse;\n",
       "  }\n",
       "  th, td {\n",
       "    padding: 5px;\n",
       "  }\n",
       "  th {\n",
       "    text-align: left;\n",
       "  }\n",
       "</style><div class='table-result-container'><table class='table-result'><thead style='background-color: white'><tr><th>path</th><th>metrics</th></tr></thead><tbody><tr><td>s3://databricks-e2demofieldengwest/b169b504-4c54-49f2-bc3a-adf4b128f36d/tables/3582c165-48ee-4182-a1f8-e39a3a67b42d</td><td>Map(recompressionCodec -> null, partitionsOptimized -> 0, numTableColumnsWithStats -> 18, skippedArchivedFiles -> 0, clusteringStats -> null, totalFilesSkipped -> 0, totalClusterParallelism -> 56, numFilesSkippedToReduceWriteAmplification -> 0, totalScheduledTasks -> 0, endTimeMs -> 1751058871897, startTimeMs -> 1751058867892, filesAdded -> Map(totalSize -> 0, avg -> 0.0, min -> null, totalFiles -> 0, max -> null), numBatches -> 0, numBins -> 0, deletionVectorStats -> Map(numDeletionVectorsRemoved -> 0, numDeletionVectorRowsRemoved -> 0), filesRemoved -> Map(totalSize -> 0, avg -> 0.0, min -> null, totalFiles -> 0, max -> null), totalTaskExecutionTimeMs -> 0, zOrderStats -> null, preserveInsertionOrder -> false, totalConsideredFiles -> 1, numBytesSkippedToReduceWriteAmplification -> 0, clusteringMetrics -> Map(numFilesSkippedAfterExpansion -> 0, totalLogicalSizeOfDataToRewriteInBytes -> 0, logicalSizeOfFilesClassifiedToIntermediateNodesInBytes -> 0, numLeafNodesCompacted -> 0, nodeMinNumFilesToCompact -> 4, isPOTriggered -> false, numSamplingJobs -> 0, clusterThresholdStrategy -> log, sizeOfTableInBytesBeforeLazyClustering -> 34956, numFilesClassifiedToLeafNodes -> 1, timeMetrics -> Map(metadataCreationTimeMs -> 1593, totalGetFilesForNodeCallsTimeMs -> 0, optimizerTimeMs -> 42, classifierTimeMs -> 79, totalSamplingTimeMs -> 0, metadataLoadTimeMs -> 0), approxClusteringQuality -> null, numThreadsForClassifier -> null, totalSizeOfFilesSkippedAfterExpansionInBytes -> 0, maxOptimizeBatchesInParallel -> 2, maxIterations -> 5, numLeafNodesExpanded -> 0, numIdealFilesWithTrimmedStringMaxValue -> 0, numCompactionTasksPlanned -> 0, numFilesClassifiedToIntermediateNodes -> 0, numLeafNodesClustered -> 0, minFileSize -> 16777216, numIdealFiles -> 0, currentIteration -> 1, numClusteringTasksPlanned -> 0, numGetFilesForNodeCalls -> 0, approxClusteringCoverage -> null, isNewMetadataCreated -> true, numIntermediateNodesCompacted -> 0, isFull -> false, totalLogicalSizeOfDataToCompactInBytes -> 0, totalSizeOfDataToRewriteInBytes -> 0, totalSizeOfDataToCompactInBytes -> 0, numIntermediateNodesClustered -> 0, maxFileSize -> 67108864, clusteringStrategy -> sizeAware, numOptimizeBatchesPlanned -> 0, totalLogicalSizeOfFilesSkippedAfterExpansionInBytes -> 0, numFilesSkippedWithoutStats -> 0, sizeOfFilesClassifiedToIntermediateNodesInBytes -> 0, sizeOfFilesClassifiedToLeafNodesInBytes -> 34956, approxClusteringQualityPerColumn -> null, numAddedFilesWithSameMinMaxOnClusteringColumns -> null, logicalSizeOfFilesClassifiedToLeafNodesInBytes -> 34956), numTableColumns -> 18, numFilesAdded -> 0, numFilesRemoved -> 0, autoCompactParallelismStats -> null)</td></tr></tbody></table></div>"
      ]
     },
     "metadata": {
      "application/vnd.databricks.v1+output": {
       "addedWidgets": {},
       "aggData": [],
       "aggError": "",
       "aggOverflow": false,
       "aggSchema": [],
       "aggSeriesLimitReached": false,
       "aggType": "",
       "arguments": {},
       "columnCustomDisplayInfos": {},
       "data": [
        [
         "s3://databricks-e2demofieldengwest/b169b504-4c54-49f2-bc3a-adf4b128f36d/tables/3582c165-48ee-4182-a1f8-e39a3a67b42d",
         {
          "autoCompactParallelismStats": null,
          "clusteringMetrics": "Map(numFilesSkippedAfterExpansion -> 0, totalLogicalSizeOfDataToRewriteInBytes -> 0, logicalSizeOfFilesClassifiedToIntermediateNodesInBytes -> 0, numLeafNodesCompacted -> 0, nodeMinNumFilesToCompact -> 4, isPOTriggered -> false, numSamplingJobs -> 0, clusterThresholdStrategy -> log, sizeOfTableInBytesBeforeLazyClustering -> 34956, numFilesClassifiedToLeafNodes -> 1, timeMetrics -> Map(metadataCreationTimeMs -> 1593, totalGetFilesForNodeCallsTimeMs -> 0, optimizerTimeMs -> 42, classifierTimeMs -> 79, totalSamplingTimeMs -> 0, metadataLoadTimeMs -> 0), approxClusteringQuality -> null, numThreadsForClassifier -> null, totalSizeOfFilesSkippedAfterExpansionInBytes -> 0, maxOptimizeBatchesInParallel -> 2, maxIterations -> 5, numLeafNodesExpanded -> 0, numIdealFilesWithTrimmedStringMaxValue -> 0, numCompactionTasksPlanned -> 0, numFilesClassifiedToIntermediateNodes -> 0, numLeafNodesClustered -> 0, minFileSize -> 16777216, numIdealFiles -> 0, currentIteration -> 1, numClusteringTasksPlanned -> 0, numGetFilesForNodeCalls -> 0, approxClusteringCoverage -> null, isNewMetadataCreated -> true, numIntermediateNodesCompacted -> 0, isFull -> false, totalLogicalSizeOfDataToCompactInBytes -> 0, totalSizeOfDataToRewriteInBytes -> 0, totalSizeOfDataToCompactInBytes -> 0, numIntermediateNodesClustered -> 0, maxFileSize -> 67108864, clusteringStrategy -> sizeAware, numOptimizeBatchesPlanned -> 0, totalLogicalSizeOfFilesSkippedAfterExpansionInBytes -> 0, numFilesSkippedWithoutStats -> 0, sizeOfFilesClassifiedToIntermediateNodesInBytes -> 0, sizeOfFilesClassifiedToLeafNodesInBytes -> 34956, approxClusteringQualityPerColumn -> null, numAddedFilesWithSameMinMaxOnClusteringColumns -> null, logicalSizeOfFilesClassifiedToLeafNodesInBytes -> 34956)",
          "clusteringStats": null,
          "deletionVectorStats": "Map(numDeletionVectorsRemoved -> 0, numDeletionVectorRowsRemoved -> 0)",
          "endTimeMs": "1751058871897",
          "filesAdded": "Map(totalSize -> 0, avg -> 0.0, min -> null, totalFiles -> 0, max -> null)",
          "filesRemoved": "Map(totalSize -> 0, avg -> 0.0, min -> null, totalFiles -> 0, max -> null)",
          "numBatches": "0",
          "numBins": "0",
          "numBytesSkippedToReduceWriteAmplification": "0",
          "numFilesAdded": "0",
          "numFilesRemoved": "0",
          "numFilesSkippedToReduceWriteAmplification": "0",
          "numTableColumns": "18",
          "numTableColumnsWithStats": "18",
          "partitionsOptimized": "0",
          "preserveInsertionOrder": "false",
          "recompressionCodec": null,
          "skippedArchivedFiles": "0",
          "startTimeMs": "1751058867892",
          "totalClusterParallelism": "56",
          "totalConsideredFiles": "1",
          "totalFilesSkipped": "0",
          "totalScheduledTasks": "0",
          "totalTaskExecutionTimeMs": "0",
          "zOrderStats": null
         }
        ]
       ],
       "datasetInfos": [],
       "dbfsResultPath": null,
       "isJsonSchema": true,
       "metadata": {},
       "overflow": false,
       "plotOptions": {
        "customPlotOptions": {},
        "displayType": "table",
        "pivotAggregation": null,
        "pivotColumns": null,
        "xColumns": null,
        "yColumns": null
       },
       "removedWidgets": [],
       "schema": [
        {
         "metadata": "{}",
         "name": "path",
         "type": "\"string\""
        },
        {
         "metadata": "{}",
         "name": "metrics",
         "type": "{\"type\":\"map\",\"keyType\":\"\",\"valueType\":\"\"}"
        }
       ],
       "type": "table"
      }
     },
     "output_type": "display_data"
    }
   ],
   "source": [
    "optimize dim_calendar"
   ]
  },
  {
   "cell_type": "code",
   "execution_count": 0,
   "metadata": {
    "application/vnd.databricks.v1+cell": {
     "cellMetadata": {
      "byteLimit": 2048000,
      "rowLimit": 10000
     },
     "inputWidgets": {},
     "nuid": "7fd3d097-0255-4fdb-9239-99a1efb32bec",
     "showTitle": false,
     "tableResultSettingsMap": {},
     "title": ""
    }
   },
   "outputs": [
    {
     "output_type": "display_data",
     "data": {
      "text/html": [
       "<style scoped>\n",
       "  .table-result-container {\n",
       "    max-height: 300px;\n",
       "    overflow: auto;\n",
       "  }\n",
       "  table, th, td {\n",
       "    border: 1px solid black;\n",
       "    border-collapse: collapse;\n",
       "  }\n",
       "  th, td {\n",
       "    padding: 5px;\n",
       "  }\n",
       "  th {\n",
       "    text-align: left;\n",
       "  }\n",
       "</style><div class='table-result-container'><table class='table-result'><thead style='background-color: white'><tr></tr></thead><tbody></tbody></table></div>"
      ]
     },
     "metadata": {
      "application/vnd.databricks.v1+output": {
       "addedWidgets": {},
       "aggData": [],
       "aggError": "",
       "aggOverflow": false,
       "aggSchema": [],
       "aggSeriesLimitReached": false,
       "aggType": "",
       "arguments": {},
       "columnCustomDisplayInfos": {},
       "data": [],
       "datasetInfos": [],
       "dbfsResultPath": null,
       "isJsonSchema": true,
       "metadata": {},
       "overflow": false,
       "plotOptions": {
        "customPlotOptions": {},
        "displayType": "table",
        "pivotAggregation": null,
        "pivotColumns": null,
        "xColumns": null,
        "yColumns": null
       },
       "removedWidgets": [],
       "schema": [],
       "type": "table"
      }
     },
     "output_type": "display_data"
    }
   ],
   "source": [
    "analyze table dim_calendar compute statistics for all columns;"
   ]
  },
  {
   "cell_type": "code",
   "execution_count": 0,
   "metadata": {
    "application/vnd.databricks.v1+cell": {
     "cellMetadata": {
      "byteLimit": 2048000,
      "rowLimit": 10000
     },
     "inputWidgets": {},
     "nuid": "d2c66903-c3a6-41e3-b7a5-0ecb36579b52",
     "showTitle": true,
     "tableResultSettingsMap": {},
     "title": "Vacuum"
    }
   },
   "outputs": [
    {
     "output_type": "display_data",
     "data": {
      "text/html": [
       "<style scoped>\n",
       "  .table-result-container {\n",
       "    max-height: 300px;\n",
       "    overflow: auto;\n",
       "  }\n",
       "  table, th, td {\n",
       "    border: 1px solid black;\n",
       "    border-collapse: collapse;\n",
       "  }\n",
       "  th, td {\n",
       "    padding: 5px;\n",
       "  }\n",
       "  th {\n",
       "    text-align: left;\n",
       "  }\n",
       "</style><div class='table-result-container'><table class='table-result'><thead style='background-color: white'><tr><th>path</th></tr></thead><tbody><tr><td>s3://databricks-e2demofieldengwest/b169b504-4c54-49f2-bc3a-adf4b128f36d/tables/3582c165-48ee-4182-a1f8-e39a3a67b42d</td></tr></tbody></table></div>"
      ]
     },
     "metadata": {
      "application/vnd.databricks.v1+output": {
       "addedWidgets": {},
       "aggData": [],
       "aggError": "",
       "aggOverflow": false,
       "aggSchema": [],
       "aggSeriesLimitReached": false,
       "aggType": "",
       "arguments": {},
       "columnCustomDisplayInfos": {},
       "data": [
        [
         "s3://databricks-e2demofieldengwest/b169b504-4c54-49f2-bc3a-adf4b128f36d/tables/3582c165-48ee-4182-a1f8-e39a3a67b42d"
        ]
       ],
       "datasetInfos": [],
       "dbfsResultPath": null,
       "isJsonSchema": true,
       "metadata": {},
       "overflow": false,
       "plotOptions": {
        "customPlotOptions": {},
        "displayType": "table",
        "pivotAggregation": null,
        "pivotColumns": null,
        "xColumns": null,
        "yColumns": null
       },
       "removedWidgets": [],
       "schema": [
        {
         "metadata": "{}",
         "name": "path",
         "type": "\"string\""
        }
       ],
       "type": "table"
      }
     },
     "output_type": "display_data"
    }
   ],
   "source": [
    "vacuum dim_calendar"
   ]
  }
 ],
 "metadata": {
  "application/vnd.databricks.v1+notebook": {
   "computePreferences": null,
   "dashboards": [],
   "environmentMetadata": null,
   "inputWidgetPreferences": null,
   "language": "sql",
   "notebookMetadata": {
    "pythonIndentUnit": 2
   },
   "notebookName": "dim_calendar",
   "widgets": {
    "catalog": {
     "currentValue": "users",
     "nuid": "2d4fcc62-6974-4fe5-b2b2-1467c749a661",
     "typedWidgetInfo": {
      "autoCreated": false,
      "defaultValue": "users",
      "label": "",
      "name": "catalog",
      "options": {
       "widgetDisplayType": "Text",
       "validationRegex": null
      },
      "parameterDataType": "String"
     },
     "widgetInfo": {
      "widgetType": "text",
      "defaultValue": "users",
      "label": "",
      "name": "catalog",
      "options": {
       "widgetType": "text",
       "autoCreated": false,
       "validationRegex": null
      }
     }
    },
    "schema": {
     "currentValue": "chris_koester",
     "nuid": "7d420e17-c919-4f52-ba06-b59b389d5f3b",
     "typedWidgetInfo": {
      "autoCreated": false,
      "defaultValue": "",
      "label": "",
      "name": "schema",
      "options": {
       "widgetDisplayType": "Text",
       "validationRegex": null
      },
      "parameterDataType": "String"
     },
     "widgetInfo": {
      "widgetType": "text",
      "defaultValue": "",
      "label": "",
      "name": "schema",
      "options": {
       "widgetType": "text",
       "autoCreated": false,
       "validationRegex": null
      }
     }
    }
   }
  },
  "language_info": {
   "name": "sql"
  }
 },
 "nbformat": 4,
 "nbformat_minor": 0
}