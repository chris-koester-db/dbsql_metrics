{
 "cells": [
  {
   "cell_type": "code",
   "execution_count": 0,
   "metadata": {
    "application/vnd.databricks.v1+cell": {
     "cellMetadata": {
      "byteLimit": 2048000,
      "rowLimit": 10000
     },
     "inputWidgets": {},
     "nuid": "8aaa5c2b-5334-4141-a204-d15cf7e34a68",
     "showTitle": true,
     "tableResultSettingsMap": {},
     "title": "Set Catalog & Schema"
    }
   },
   "outputs": [],
   "source": [
    "use catalog identifier(:catalog);\n",
    "use schema identifier(:schema);"
   ]
  },
  {
   "cell_type": "code",
   "execution_count": 0,
   "metadata": {
    "application/vnd.databricks.v1+cell": {
     "cellMetadata": {
      "byteLimit": 2048000,
      "rowLimit": 10000
     },
     "inputWidgets": {},
     "nuid": "71c49d74-b4a3-4c92-a0aa-f95f6c51d71b",
     "showTitle": true,
     "tableResultSettingsMap": {},
     "title": "Create Table"
    }
   },
   "outputs": [],
   "source": [
    "create or replace table dim_calendar (\n",
    "  calendar_key int not null comment 'The primary key (PK) of the table and integer representation of the date',\n",
    "  calendar_date date not null comment 'Calendar date',\n",
    "  calendar_year int not null comment 'Calendar year',\n",
    "  calendar_month string not null comment 'Calendar month (January, February, March)',\n",
    "  month_of_year int not null comment 'Month of year (1 - 12)',\n",
    "  calendar_day string not null comment 'Calendar day (Monday, Tuesday, Wednesday)',\n",
    "  day_of_week int not null comment 'Day of week (1 - 7)',\n",
    "  day_of_week_start_monday int not null comment 'Day of week starting Monday (1 - 7)',\n",
    "  is_week_day string not null comment 'Flag for weekday, a day of the week other than Saturday or Sunday (Y, N)',\n",
    "  day_of_month int not null comment 'Day of the month (1 - 31)',\n",
    "  is_last_day_of_month string not null comment 'Flag for last day of the month (Y, N)',\n",
    "  day_of_year int not null comment 'Day of the year (1 - 365)',\n",
    "  week_of_year_iso int not null comment 'Week of the year (1 - 53)',\n",
    "  quarter_of_year int not null comment 'Quarter of the year (1 - 4)',\n",
    "  fiscal_year_oct_to_sep int not null comment 'Fiscal year for October to September',\n",
    "  fiscal_month_oct_to_sep int not null comment 'Fiscal month for October to September (1 - 12)',\n",
    "  fiscal_year_jul_to_jun int not null comment 'Fiscal year for July to June',\n",
    "  fiscal_month_jul_to_jun int not null comment 'Fiscal month for July to June (1 - 12)',\n",
    "  primary key (calendar_key) rely\n",
    ")\n",
    "comment 'Calendar dimension'\n",
    "cluster by (calendar_key);"
   ]
  },
  {
   "cell_type": "code",
   "execution_count": 0,
   "metadata": {
    "application/vnd.databricks.v1+cell": {
     "cellMetadata": {
      "byteLimit": 2048000,
      "rowLimit": 10000
     },
     "inputWidgets": {},
     "nuid": "7846f51c-5a98-49c3-8539-f2469de30069",
     "showTitle": true,
     "tableResultSettingsMap": {
      "0": {
       "dataGridStateBlob": "{\"tableState\":{\"columnPinning\":{\"left\":[\"#row_number#\"],\"right\":[]},\"columnSizing\":{},\"columnVisibility\":{}},\"settings\":{\"columns\":{}},\"syncTimestamp\":1747321958274}",
       "filterBlob": null,
       "queryPlanFiltersBlob": null,
       "tableResultIndex": 0
      }
     },
     "title": "Load Data"
    }
   },
   "outputs": [],
   "source": [
    "insert overwrite dim_calendar\n",
    "--Set the date range in the dates CTE below\n",
    "with dates as (\n",
    "  select explode(sequence(current_date() - interval 5 years, current_date(), interval 1 day)) AS calendar_date\n",
    ")\n",
    "select\n",
    "  year(calendar_date) * 10000 + month(calendar_date) * 100 + day(calendar_date) as calendar_key,\n",
    "  calendar_date,\n",
    "  year(calendar_date) AS calendar_year,\n",
    "  date_format(calendar_date, 'MMM') as calendar_month,\n",
    "  month(calendar_date) as month_of_year,\n",
    "  date_format(calendar_date, 'EEEE') as calendar_day,\n",
    "  dayofweek(calendar_date) AS day_of_week,\n",
    "  weekday(calendar_date) + 1 as day_of_week_start_monday,\n",
    "  case\n",
    "    when weekday(calendar_date) < 5 then 'Y'\n",
    "    else 'N'\n",
    "  end as is_week_day,\n",
    "  dayofmonth(calendar_date) as day_of_month,\n",
    "  case\n",
    "    when calendar_date = last_day(calendar_date) then 'Y'\n",
    "    else 'N'\n",
    "  end as is_last_day_of_month,\n",
    "  dayofyear(calendar_date) as day_of_year,\n",
    "  weekofyear(calendar_date) as week_of_year_iso,\n",
    "  quarter(calendar_date) as quarter_of_year,\n",
    "  /* Fiscal period examples */\n",
    "  case\n",
    "    when month(calendar_date) >= 10 then year(calendar_date) + 1\n",
    "    else year(calendar_date)\n",
    "  end as fiscal_year_oct_to_sep,\n",
    "  (month(calendar_date) + 2) % 12 + 1 AS fiscal_month_oct_to_sep,\n",
    "  case\n",
    "    when month(calendar_date) >= 7 then year(calendar_date) + 1\n",
    "    else year(calendar_date)\n",
    "  end as fiscal_year_jul_to_jun,\n",
    "  (month(calendar_date) + 5) % 12 + 1 AS fiscal_month_jul_to_jun\n",
    "from\n",
    "  dates\n",
    "order by\n",
    "  calendar_date;"
   ]
  },
  {
   "cell_type": "code",
   "execution_count": 0,
   "metadata": {
    "application/vnd.databricks.v1+cell": {
     "cellMetadata": {
      "byteLimit": 2048000,
      "rowLimit": 10000
     },
     "inputWidgets": {},
     "nuid": "afd3fe1c-86d6-49ae-8b1e-06ced3def17d",
     "showTitle": true,
     "tableResultSettingsMap": {},
     "title": "Optimize"
    }
   },
   "outputs": [],
   "source": [
    "optimize dim_calendar"
   ]
  },
  {
   "cell_type": "code",
   "execution_count": 0,
   "metadata": {
    "application/vnd.databricks.v1+cell": {
     "cellMetadata": {
      "byteLimit": 2048000,
      "rowLimit": 10000
     },
     "inputWidgets": {},
     "nuid": "7fd3d097-0255-4fdb-9239-99a1efb32bec",
     "showTitle": true,
     "tableResultSettingsMap": {},
     "title": "Collect Statistics"
    }
   },
   "outputs": [],
   "source": [
    "analyze table dim_calendar compute statistics for all columns;"
   ]
  },
  {
   "cell_type": "code",
   "execution_count": 0,
   "metadata": {
    "application/vnd.databricks.v1+cell": {
     "cellMetadata": {
      "byteLimit": 2048000,
      "rowLimit": 10000
     },
     "inputWidgets": {},
     "nuid": "d2c66903-c3a6-41e3-b7a5-0ecb36579b52",
     "showTitle": true,
     "tableResultSettingsMap": {},
     "title": "Vacuum"
    }
   },
   "outputs": [],
   "source": [
    "vacuum dim_calendar"
   ]
  }
 ],
 "metadata": {
  "application/vnd.databricks.v1+notebook": {
   "computePreferences": null,
   "dashboards": [],
   "environmentMetadata": null,
   "inputWidgetPreferences": null,
   "language": "sql",
   "notebookMetadata": {
    "pythonIndentUnit": 2
   },
   "notebookName": "dim_calendar",
   "widgets": {
    "catalog": {
     "currentValue": "users",
     "nuid": "2d4fcc62-6974-4fe5-b2b2-1467c749a661",
     "typedWidgetInfo": {
      "autoCreated": false,
      "defaultValue": "users",
      "label": "",
      "name": "catalog",
      "options": {
       "validationRegex": null,
       "widgetDisplayType": "Text"
      },
      "parameterDataType": "String"
     },
     "widgetInfo": {
      "defaultValue": "users",
      "label": "",
      "name": "catalog",
      "options": {
       "autoCreated": false,
       "validationRegex": null,
       "widgetType": "text"
      },
      "widgetType": "text"
     }
    },
    "schema": {
     "currentValue": "chris_koester",
     "nuid": "7d420e17-c919-4f52-ba06-b59b389d5f3b",
     "typedWidgetInfo": {
      "autoCreated": false,
      "defaultValue": "",
      "label": "",
      "name": "schema",
      "options": {
       "validationRegex": null,
       "widgetDisplayType": "Text"
      },
      "parameterDataType": "String"
     },
     "widgetInfo": {
      "defaultValue": "",
      "label": "",
      "name": "schema",
      "options": {
       "autoCreated": false,
       "validationRegex": null,
       "widgetType": "text"
      },
      "widgetType": "text"
     }
    }
   }
  },
  "language_info": {
   "name": "sql"
  }
 },
 "nbformat": 4,
 "nbformat_minor": 0
}
