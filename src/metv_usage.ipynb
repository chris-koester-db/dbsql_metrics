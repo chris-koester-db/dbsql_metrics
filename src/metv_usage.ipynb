{
 "cells": [
  {
   "cell_type": "code",
   "execution_count": 0,
   "metadata": {
    "application/vnd.databricks.v1+cell": {
     "cellMetadata": {
      "byteLimit": 2048000,
      "rowLimit": 10000
     },
     "inputWidgets": {},
     "nuid": "0068e5a5-3046-4905-99b8-6bbf3e9b1e36",
     "showTitle": true,
     "tableResultSettingsMap": {},
     "title": "Set Catalog & Schema"
    }
   },
   "outputs": [],
   "source": [
    "use catalog identifier(:catalog);\n",
    "use schema identifier(:schema);"
   ]
  },
  {
   "cell_type": "code",
   "execution_count": 0,
   "metadata": {
    "application/vnd.databricks.v1+cell": {
     "cellMetadata": {
      "byteLimit": 2048000,
      "rowLimit": 10000
     },
     "inputWidgets": {},
     "nuid": "4401daff-785d-480d-8dde-d8af95649006",
     "showTitle": true,
     "tableResultSettingsMap": {},
     "title": "Create Metric View"
    }
   },
   "outputs": [],
   "source": [
    "declare or replace qry_str string;\n",
    "\n",
    "set var qry_str = \n",
    "  \"create or replace view metv_usage\n",
    "  (\n",
    "    Date comment 'Date of the usage record, this field can be used for faster aggregation by date.',\n",
    "    `Account ID` comment 'The ID of the Databricks account.',\n",
    "    `Workspace Name` comment 'The name of the workspace.',\n",
    "    `Warehouse Name` comment 'The name of the SQL warehouse.',\n",
    "    `Usage Unit` comment 'Unit this usage is measured in. Possible values include DBUs.',\n",
    "    `Usage Type` comment 'The type of usage attributed to the product or workload for billing purposes. Possible values are COMPUTE_TIME, STORAGE_SPACE, NETWORK_BYTES, API_CALLS, TOKEN, or GPU_TIME.',\n",
    "    `Billing Origin Product` comment 'The product that originated the usage. Some products can be billed as different SKUs. For possible values, see [View information about the product associated with the usage](https://docs.databricks.com/en/admin/system-tables/billing.html#features).',\n",
    "    `SKU Name` comment 'Name of the SKU',\n",
    "    `Usage Sum` comment 'Number of units consumed for this record.'\n",
    "  )\n",
    "  with metrics\n",
    "  language yaml\n",
    "  as $$\n",
    "  version: 0.1\n",
    "  \n",
    "  source: \" || :catalog || '.' || :schema || \".vw_fct_usage\n",
    "  \n",
    "  joins:\n",
    "    - name: calendar\n",
    "      source: \" || :catalog || '.' || :schema || \".vw_dim_calendar\n",
    "      on: calendar.calendar_key = source.calendar_key\n",
    "\n",
    "    - name: compute\n",
    "      source: \" || :catalog || '.' || :schema || \".vw_dim_compute\n",
    "      on: compute.compute_key = source.compute_key\n",
    "\n",
    "    - name: workspace\n",
    "      source: \" || :catalog || '.' || :schema || \".vw_dim_workspace\n",
    "      on: workspace.workspace_key = source.workspace_key\n",
    "  \n",
    "  dimensions:\n",
    "    - name: Date\n",
    "      expr: calendar.calendar_date\n",
    "    - name: Account ID\n",
    "      expr: workspace.account_id\n",
    "    - name: Workspace Name\n",
    "      expr: workspace.workspace_name\n",
    "    - name: Warehouse Name\n",
    "      expr: compute.warehouse_name\n",
    "    - name: Usage Unit\n",
    "      expr: usage_unit\n",
    "    - name: Usage Type\n",
    "      expr: usage_type\n",
    "    - name: Billing Origin Product\n",
    "      expr: billing_origin_product\n",
    "    - name: SKU Name\n",
    "      expr: sku_name\n",
    "  \n",
    "  measures:\n",
    "    - name: Usage Sum\n",
    "      expr: SUM(usage_quantity)\n",
    "  $$\";\n",
    "\n",
    "execute immediate qry_str;"
   ]
  }
 ],
 "metadata": {
  "application/vnd.databricks.v1+notebook": {
   "computePreferences": {
    "hardware": {
     "accelerator": null,
     "gpuPoolId": null,
     "memory": null
    }
   },
   "dashboards": [],
   "environmentMetadata": {
    "base_environment": "dbe_c75093c8-0895-475e-8c1b-6acacfe3368b",
    "environment_version": "2"
   },
   "inputWidgetPreferences": null,
   "language": "sql",
   "notebookMetadata": {
    "pythonIndentUnit": 2
   },
   "notebookName": "metv_usage",
   "widgets": {
    "catalog": {
     "currentValue": "users",
     "nuid": "1f5ef89d-b82a-481b-aef3-c88e8fb77723",
     "typedWidgetInfo": {
      "autoCreated": false,
      "defaultValue": "",
      "label": "",
      "name": "catalog",
      "options": {
       "validationRegex": null,
       "widgetDisplayType": "Text"
      },
      "parameterDataType": "String"
     },
     "widgetInfo": {
      "defaultValue": "",
      "label": "",
      "name": "catalog",
      "options": {
       "autoCreated": false,
       "validationRegex": null,
       "widgetType": "text"
      },
      "widgetType": "text"
     }
    },
    "schema": {
     "currentValue": "chris_koester",
     "nuid": "88ce8536-1262-4177-9f02-29590a12cf82",
     "typedWidgetInfo": {
      "autoCreated": false,
      "defaultValue": "",
      "label": "",
      "name": "schema",
      "options": {
       "validationRegex": null,
       "widgetDisplayType": "Text"
      },
      "parameterDataType": "String"
     },
     "widgetInfo": {
      "defaultValue": "",
      "label": "",
      "name": "schema",
      "options": {
       "autoCreated": false,
       "validationRegex": null,
       "widgetType": "text"
      },
      "widgetType": "text"
     }
    }
   }
  },
  "language_info": {
   "name": "sql"
  }
 },
 "nbformat": 4,
 "nbformat_minor": 0
}
