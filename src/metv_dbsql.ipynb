{
 "cells": [
  {
   "cell_type": "code",
   "execution_count": null,
   "metadata": {},
   "outputs": [],
   "source": [
    "use catalog identifier(:catalog);\n",
    "use schema identifier(:schema);"
   ]
  },
  {
   "cell_type": "code",
   "execution_count": 0,
   "metadata": {
    "application/vnd.databricks.v1+cell": {
     "cellMetadata": {
      "byteLimit": 2048000,
      "rowLimit": 10000
     },
     "inputWidgets": {},
     "nuid": "4401daff-785d-480d-8dde-d8af95649006",
     "showTitle": false,
     "tableResultSettingsMap": {},
     "title": ""
    }
   },
   "outputs": [
    {
     "data": {
      "text/html": [
       "<style scoped>\n",
       "  .table-result-container {\n",
       "    max-height: 300px;\n",
       "    overflow: auto;\n",
       "  }\n",
       "  table, th, td {\n",
       "    border: 1px solid black;\n",
       "    border-collapse: collapse;\n",
       "  }\n",
       "  th, td {\n",
       "    padding: 5px;\n",
       "  }\n",
       "  th {\n",
       "    text-align: left;\n",
       "  }\n",
       "</style><div class='table-result-container'><table class='table-result'><thead style='background-color: white'><tr></tr></thead><tbody></tbody></table></div>"
      ]
     },
     "metadata": {
      "application/vnd.databricks.v1+output": {
       "addedWidgets": {},
       "aggData": [],
       "aggError": "",
       "aggOverflow": false,
       "aggSchema": [],
       "aggSeriesLimitReached": false,
       "aggType": "",
       "arguments": {},
       "columnCustomDisplayInfos": {},
       "data": [],
       "datasetInfos": [],
       "dbfsResultPath": null,
       "isJsonSchema": true,
       "metadata": {},
       "overflow": false,
       "plotOptions": {
        "customPlotOptions": {},
        "displayType": "table",
        "pivotAggregation": null,
        "pivotColumns": null,
        "xColumns": null,
        "yColumns": null
       },
       "removedWidgets": [],
       "schema": [],
       "type": "table"
      }
     },
     "output_type": "display_data"
    }
   ],
   "source": [
    "declare or replace qry_str string;\n",
    "\n",
    "set var qry_str = \n",
    "  'CREATE OR REPLACE VIEW metv_dbsql\n",
    "  (\n",
    "    year,\n",
    "    month,\n",
    "    date,\n",
    "    client_application,\n",
    "    query_count,\n",
    "    query_duration_sec_avg,\n",
    "    query_duration_sec_min,\n",
    "    query_duration_sec_max,\n",
    "    distinct_users,\n",
    "    distinct_users_t7d,\n",
    "    distinct_users_t30d\n",
    "  )\n",
    "  WITH METRICS\n",
    "  LANGUAGE YAML\n",
    "  AS $$\n",
    "  version: 0.1\n",
    "  \n",
    "  source: ' || :catalog || '.' || :schema || '.vw_query_history\n",
    "  \n",
    "  joins:\n",
    "    - name: calendar\n",
    "      source: ' || :catalog || '.' || :schema || '.dim_calendar\n",
    "      on: calendar.date_int = source.date_int\n",
    "  \n",
    "  dimensions:\n",
    "    - name: year\n",
    "      expr: calendar.calendar_year\n",
    "    - name: month\n",
    "      expr: calendar.calendar_month\n",
    "    - name: date\n",
    "      expr: calendar.calendar_date\n",
    "    - name: client_application\n",
    "      expr: source.client_application\n",
    "  \n",
    "  measures:\n",
    "    - name: query_count\n",
    "      expr: count(statement_id)\n",
    "    - name: query_duration_sec_avg\n",
    "      expr: avg(total_duration_ms / 1000)\n",
    "    - name: query_duration_sec_min\n",
    "      expr: min(total_duration_ms / 1000)\n",
    "    - name: query_duration_sec_max\n",
    "      expr: max(total_duration_ms / 1000)\n",
    "    - name: distinct_users\n",
    "      expr: count(distinct executed_by_user_id)\n",
    "    - name: distinct_users_t7d\n",
    "      expr: distinct_users\n",
    "      window:\n",
    "        - order: date\n",
    "          range: trailing 7 day\n",
    "          semiadditive: last\n",
    "    - name: distinct_users_t30d\n",
    "      expr: distinct_users\n",
    "      window:\n",
    "        - order: date\n",
    "          range: trailing 30 day\n",
    "          semiadditive: last\n",
    "  $$';\n",
    "\n",
    "execute immediate qry_str;"
   ]
  }
 ],
 "metadata": {
  "application/vnd.databricks.v1+notebook": {
   "computePreferences": null,
   "dashboards": [],
   "environmentMetadata": {
    "base_environment": "dbe_c75093c8-0895-475e-8c1b-6acacfe3368b",
    "environment_version": "2"
   },
   "inputWidgetPreferences": null,
   "language": "sql",
   "notebookMetadata": {},
   "notebookName": "metv_dbsql",
   "widgets": {
    "catalog": {
     "currentValue": "users",
     "nuid": "1f5ef89d-b82a-481b-aef3-c88e8fb77723",
     "typedWidgetInfo": {
      "autoCreated": false,
      "defaultValue": "",
      "label": "",
      "name": "catalog",
      "options": {
       "validationRegex": null,
       "widgetDisplayType": "Text"
      },
      "parameterDataType": "String"
     },
     "widgetInfo": {
      "defaultValue": "",
      "label": "",
      "name": "catalog",
      "options": {
       "autoCreated": false,
       "validationRegex": null,
       "widgetType": "text"
      },
      "widgetType": "text"
     }
    },
    "schema": {
     "currentValue": "chris_koester",
     "nuid": "88ce8536-1262-4177-9f02-29590a12cf82",
     "typedWidgetInfo": {
      "autoCreated": false,
      "defaultValue": "",
      "label": "",
      "name": "schema",
      "options": {
       "validationRegex": null,
       "widgetDisplayType": "Text"
      },
      "parameterDataType": "String"
     },
     "widgetInfo": {
      "defaultValue": "",
      "label": "",
      "name": "schema",
      "options": {
       "autoCreated": false,
       "validationRegex": null,
       "widgetType": "text"
      },
      "widgetType": "text"
     }
    }
   }
  },
  "language_info": {
   "name": "sql"
  }
 },
 "nbformat": 4,
 "nbformat_minor": 0
}
