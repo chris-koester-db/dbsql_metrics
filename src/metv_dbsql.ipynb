{
 "cells": [
  {
   "cell_type": "code",
   "execution_count": null,
   "metadata": {},
   "outputs": [],
   "source": [
    "use catalog identifier(:catalog);\n",
    "use schema identifier(:schema);"
   ]
  },
  {
   "cell_type": "code",
   "execution_count": 0,
   "metadata": {
    "application/vnd.databricks.v1+cell": {
     "cellMetadata": {},
     "inputWidgets": {},
     "nuid": "4401daff-785d-480d-8dde-d8af95649006",
     "showTitle": false,
     "tableResultSettingsMap": {},
     "title": ""
    }
   },
   "outputs": [],
   "source": [
    "CREATE OR REPLACE VIEW metv_dbsql\n",
    "(\n",
    "  year,\n",
    "  month,\n",
    "  date,\n",
    "  query_count,\n",
    "  query_duration_sec_avg,\n",
    "  query_duration_sec_min,\n",
    "  query_duration_sec_max,\n",
    "  distinct_users,\n",
    "  distinct_users_t7d,\n",
    "  distinct_users_t30d\n",
    ")\n",
    "WITH METRICS\n",
    "LANGUAGE YAML\n",
    "COMMENT 'A Metric View for DBSQL'\n",
    "AS $$\n",
    "version: 0.1\n",
    "\n",
    "source: users.chris_koester.vw_query_history\n",
    "\n",
    "joins:\n",
    "  - name: calendar\n",
    "    source: users.chris_koester.dim_calendar\n",
    "    on: calendar.date_int = source.date_int\n",
    "\n",
    "dimensions:\n",
    "  - name: year\n",
    "    expr: calendar.calendar_year\n",
    "  - name: month\n",
    "    expr: calendar.calendar_month\n",
    "  - name: date\n",
    "    expr: calendar.calendar_date\n",
    "\n",
    "measures:\n",
    "  - name: query_count\n",
    "    expr: count(statement_id)\n",
    "  - name: query_duration_sec_avg\n",
    "    expr: avg(total_duration_ms / 1000)\n",
    "  - name: query_duration_sec_min\n",
    "    expr: min(total_duration_ms / 1000)\n",
    "  - name: query_duration_sec_max\n",
    "    expr: max(total_duration_ms / 1000)\n",
    "  - name: distinct_users\n",
    "    expr: count(distinct executed_by_user_id)\n",
    "  - name: distinct_users_t7d\n",
    "    expr: distinct_users\n",
    "    window:\n",
    "      - order: date\n",
    "        range: trailing 7 day\n",
    "        semiadditive: last\n",
    "  - name: distinct_users_t30d\n",
    "    expr: distinct_users\n",
    "    window:\n",
    "      - order: date\n",
    "        range: trailing 30 day\n",
    "        semiadditive: last\n",
    "$$;"
   ]
  }
 ],
 "metadata": {
  "application/vnd.databricks.v1+notebook": {
   "computePreferences": null,
   "dashboards": [],
   "environmentMetadata": {
    "base_environment": "dbe_c75093c8-0895-475e-8c1b-6acacfe3368b",
    "environment_version": "2"
   },
   "inputWidgetPreferences": null,
   "language": "sql",
   "notebookMetadata": {},
   "notebookName": "metv_dbsql",
   "widgets": {}
  },
  "language_info": {
   "name": "sql"
  }
 },
 "nbformat": 4,
 "nbformat_minor": 0
}
