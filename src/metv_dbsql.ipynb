{
 "cells": [
  {
   "cell_type": "code",
   "execution_count": 0,
   "metadata": {
    "application/vnd.databricks.v1+cell": {
     "cellMetadata": {
      "byteLimit": 2048000,
      "rowLimit": 10000
     },
     "inputWidgets": {},
     "nuid": "0068e5a5-3046-4905-99b8-6bbf3e9b1e36",
     "showTitle": true,
     "tableResultSettingsMap": {},
     "title": "Set Catalog & Schema"
    }
   },
   "outputs": [],
   "source": [
    "use catalog identifier(:catalog);\n",
    "use schema identifier(:schema);"
   ]
  },
  {
   "cell_type": "code",
   "execution_count": 0,
   "metadata": {
    "application/vnd.databricks.v1+cell": {
     "cellMetadata": {
      "byteLimit": 2048000,
      "rowLimit": 10000
     },
     "inputWidgets": {},
     "nuid": "4401daff-785d-480d-8dde-d8af95649006",
     "showTitle": true,
     "tableResultSettingsMap": {},
     "title": "Create Metric View"
    }
   },
   "outputs": [],
   "source": [
    "declare or replace qry_str string;\n",
    "\n",
    "set var qry_str = \n",
    "  \"create or replace view metv_dbsql\n",
    "  (\n",
    "    date comment 'Date when Databricks received the request.',\n",
    "    workspace_name comment 'Date when Databricks received the request.',\n",
    "    client_application comment 'Client application that ran the statement. For example: Databricks SQL, Tableau, and Power BI. Nulls and blanks are labled as Unknown',\n",
    "    compute_type comment 'The type of compute (Warehouse, Serverless, etc.)',\n",
    "    warehouse_name comment 'The human-readable name of the workspace.',\n",
    "    warehouse_type comment 'The type of SQL warehouse. Possible values are CLASSIC, PRO, and SERVERLESS.',\n",
    "    warehouse_size comment 'The cluster size of the SQL warehouse. Possible values are 2X_SMALL, X_SMALL, SMALL, MEDIUM, LARGE, X_LARGE, 2X_LARGE, 3X_LARGE, and 4X_LARGE.',\n",
    "    query_count comment 'Count of queries.',\n",
    "    query_duration_sec_sum comment 'Sum of total execution time of the statement in seconds (Excluding result fetch time).',\n",
    "    query_duration_hrs_sum comment 'Sum of total execution time of the statement in hours (Excluding result fetch time).',\n",
    "    query_duration_sec_avg comment 'Average of total execution time of the statement in seconds (Excluding result fetch time).',\n",
    "    query_duration_sec_max comment 'Maximum of total execution time of the statement in seconds (Excluding result fetch time).',\n",
    "    waiting_at_capacity_duration_sec_sum comment 'Sum of time spent waiting in queue for available compute capacity in seconds.',\n",
    "    distinct_users comment 'Distinct count of users based on executed_by_user_id.',\n",
    "    distinct_users_t7d comment 'Distinct count t7d of users based on executed_by_user_id.',\n",
    "    distinct_users_t30d comment 'Distinct count t30d of users based on executed_by_user_id.'\n",
    "  )\n",
    "  with metrics\n",
    "  language yaml\n",
    "  as $$\n",
    "  version: 0.1\n",
    "  \n",
    "  source: \" || :catalog || '.' || :schema || \".vw_query_history\n",
    "  \n",
    "  joins:\n",
    "    - name: calendar\n",
    "      source: \" || :catalog || '.' || :schema || \".vw_dim_calendar\n",
    "      on: calendar.calendar_key = source.calendar_key\n",
    "\n",
    "    - name: compute\n",
    "      source: \" || :catalog || '.' || :schema || \".vw_dim_compute\n",
    "      on: compute.compute_key = source.compute_key\n",
    "\n",
    "    - name: workspace\n",
    "      source: \" || :catalog || '.' || :schema || \".vw_dim_workspace\n",
    "      on: workspace.workspace_key = source.workspace_key\n",
    "  \n",
    "  dimensions:\n",
    "    - name: date\n",
    "      expr: calendar.calendar_date\n",
    "    - name: workspace_name\n",
    "      expr: workspace.workspace_name\n",
    "    - name: client_application\n",
    "      expr: source.client_application\n",
    "    - name: compute_type\n",
    "      expr: compute.compute_type\n",
    "    - name: warehouse_name\n",
    "      expr: compute.warehouse_name\n",
    "    - name: warehouse_type\n",
    "      expr: compute.warehouse_type\n",
    "    - name: warehouse_size\n",
    "      expr: compute.warehouse_size\n",
    "\n",
    "  measures:\n",
    "    - name: query_count\n",
    "      expr: count(statement_id)\n",
    "    - name: query_duration_sec_sum\n",
    "      expr: sum(total_duration_ms / 1000)\n",
    "    - name: query_duration_hrs_sum\n",
    "      expr: query_duration_sec_sum / 3600\n",
    "    - name: query_duration_sec_avg\n",
    "      expr: avg(total_duration_ms / 1000)\n",
    "    - name: query_duration_sec_max\n",
    "      expr: max(total_duration_ms / 1000)\n",
    "    - name: waiting_at_capacity_duration_sec_sum\n",
    "      expr: sum(waiting_at_capacity_duration_ms / 1000)\n",
    "    - name: distinct_users\n",
    "      expr: count(distinct executed_by_user_id)\n",
    "    - name: distinct_users_t7d\n",
    "      expr: distinct_users\n",
    "      window:\n",
    "        - order: date\n",
    "          range: trailing 7 day\n",
    "          semiadditive: last\n",
    "    - name: distinct_users_t30d\n",
    "      expr: distinct_users\n",
    "      window:\n",
    "        - order: date\n",
    "          range: trailing 30 day\n",
    "          semiadditive: last\n",
    "  $$\";\n",
    "\n",
    "execute immediate qry_str;"
   ]
  }
 ],
 "metadata": {
  "application/vnd.databricks.v1+notebook": {
   "computePreferences": null,
   "dashboards": [],
   "environmentMetadata": {
    "base_environment": "dbe_c75093c8-0895-475e-8c1b-6acacfe3368b",
    "environment_version": "2"
   },
   "inputWidgetPreferences": null,
   "language": "sql",
   "notebookMetadata": {
    "pythonIndentUnit": 2
   },
   "notebookName": "metv_dbsql",
   "widgets": {
    "catalog": {
     "currentValue": "users",
     "nuid": "1f5ef89d-b82a-481b-aef3-c88e8fb77723",
     "typedWidgetInfo": {
      "autoCreated": false,
      "defaultValue": "",
      "label": "",
      "name": "catalog",
      "options": {
       "widgetDisplayType": "Text",
       "validationRegex": null
      },
      "parameterDataType": "String"
     },
     "widgetInfo": {
      "widgetType": "text",
      "defaultValue": "",
      "label": "",
      "name": "catalog",
      "options": {
       "widgetType": "text",
       "autoCreated": false,
       "validationRegex": null
      }
     }
    },
    "schema": {
     "currentValue": "chris_koester",
     "nuid": "88ce8536-1262-4177-9f02-29590a12cf82",
     "typedWidgetInfo": {
      "autoCreated": false,
      "defaultValue": "",
      "label": "",
      "name": "schema",
      "options": {
       "widgetDisplayType": "Text",
       "validationRegex": null
      },
      "parameterDataType": "String"
     },
     "widgetInfo": {
      "widgetType": "text",
      "defaultValue": "",
      "label": "",
      "name": "schema",
      "options": {
       "widgetType": "text",
       "autoCreated": false,
       "validationRegex": null
      }
     }
    }
   }
  },
  "language_info": {
   "name": "sql"
  }
 },
 "nbformat": 4,
 "nbformat_minor": 0
}
